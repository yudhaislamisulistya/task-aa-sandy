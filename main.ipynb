{
 "cells": [
  {
   "cell_type": "code",
   "execution_count": 124,
   "metadata": {},
   "outputs": [],
   "source": [
    "import numpy as np\n",
    "import matplotlib.pyplot as plt\n",
    "import pandas as pd\n",
    "import time\n"
   ]
  },
  {
   "cell_type": "markdown",
   "metadata": {},
   "source": [
    "# Task 1"
   ]
  },
  {
   "cell_type": "code",
   "execution_count": 125,
   "metadata": {},
   "outputs": [
    {
     "name": "stdout",
     "output_type": "stream",
     "text": [
      "6 + 2x^1 + 2x^2 + 1x^3 + 2x^4 + 5x^5 + 6x^6 + 5x^7 + 4x^8 + 9x^9 + 1x^10 + 2x^11 + 1x^12 + 4x^13 + 2x^14 + 2x^15 + 4x^16 + 0x^17 + 1x^18 + 2x^19 + 8x^20 + 1x^21 + 8x^22 + 9x^23 + 8x^24 + 7x^25 + 3x^26 + 2x^27 + 8x^28 + 8x^29 + 1x^30 + 2x^31 + 6x^32 + 7x^33 + 5x^34 + 1x^35 + 0x^36 + 5x^37 + 2x^38 + 8x^39 + 7x^40 + 3x^41 + 6x^42 + 7x^43 + 9x^44 + 6x^45 + 7x^46 + 9x^47 + 7x^48 + 1x^49 + 0x^50 + 4x^51 + 8x^52 + 7x^53 + 2x^54 + 9x^55 + 7x^56 + 1x^57 + 0x^58 + 8x^59 + 5x^60 + 4x^61 + 4x^62 + 5x^63 + 5x^64 + 0x^65 + 7x^66 + 6x^67 + 8x^68 + 0x^69 + 3x^70 + 2x^71 + 6x^72 + 3x^73 + 2x^74 + 2x^75 + 4x^76 + 3x^77 + 1x^78 + 9x^79 + 6x^80 + 1x^81 + 4x^82 + 2x^83 + 1x^84 + 2x^85 + 7x^86 + 9x^87 + 3x^88 + 4x^89 + 4x^90 + 1x^91 + 5x^92 + 2x^93 + 3x^94 + 8x^95 + 5x^96 + 4x^97 + 8x^98 + 2x^99 + 4x^100 + 1x^101 + 0x^102 + 8x^103 + 5x^104 + 3x^105 + 1x^106 + 4x^107 + 6x^108 + 2x^109 + 3x^110 + 2x^111 + 9x^112 + 2x^113 + 6x^114 + 9x^115 + 5x^116 + 0x^117 + 0x^118 + 0x^119 + 9x^120 + 5x^121 + 4x^122 + 1x^123 + 3x^124 + 9x^125 + 2x^126 + 6x^127 + 8x^128 + 5x^129 + 1x^130 + 4x^131 + 1x^132 + 0x^133 + 7x^134 + 2x^135 + 8x^136 + 3x^137 + 3x^138 + 0x^139 + 5x^140 + 6x^141 + 5x^142 + 3x^143 + 5x^144 + 4x^145 + 2x^146 + 5x^147 + 3x^148 + 5x^149 + 3x^150 + 2x^151 + 4x^152 + 9x^153 + 2x^154 + 7x^155 + 6x^156 + 6x^157 + 0x^158 + 8x^159 + 6x^160 + 7x^161 + 8x^162 + 1x^163 + 8x^164 + 7x^165 + 1x^166 + 1x^167 + 2x^168 + 4x^169 + 1x^170 + 9x^171 + 3x^172 + 0x^173 + 8x^174 + 0x^175 + 5x^176 + 4x^177 + 8x^178 + 3x^179 + 9x^180 + 7x^181 + 0x^182 + 7x^183 + 6x^184 + 1x^185 + 6x^186 + 0x^187 + 2x^188 + 5x^189 + 2x^190 + 4x^191 + 4x^192 + 3x^193 + 6x^194 + 6x^195 + 5x^196 + 1x^197 + 8x^198 + 3x^199 + 6x^200 + 4x^201 + 6x^202 + 4x^203 + 7x^204 + 1x^205 + 0x^206 + 8x^207 + 3x^208 + 1x^209 + 7x^210 + 0x^211 + 1x^212 + 0x^213 + 2x^214 + 7x^215 + 3x^216 + 4x^217 + 4x^218 + 8x^219 + 9x^220 + 4x^221 + 8x^222 + 0x^223 + 2x^224 + 2x^225 + 2x^226 + 2x^227 + 4x^228 + 0x^229 + 0x^230 + 0x^231 + 2x^232 + 9x^233 + 8x^234 + 3x^235 + 3x^236 + 6x^237 + 8x^238 + 3x^239 + 9x^240 + 8x^241 + 2x^242 + 2x^243 + 8x^244 + 6x^245 + 5x^246 + 5x^247 + 2x^248 + 9x^249 + 3x^250 + 6x^251 + 4x^252 + 0x^253 + 3x^254 + 4x^255 + 5x^256 + 5x^257 + 8x^258 + 8x^259 + 3x^260 + 4x^261 + 6x^262 + 8x^263 + 3x^264 + 9x^265 + 6x^266 + 2x^267 + 2x^268 + 2x^269 + 2x^270 + 0x^271 + 8x^272 + 2x^273 + 1x^274 + 1x^275 + 3x^276 + 4x^277 + 7x^278 + 0x^279 + 1x^280 + 3x^281 + 5x^282 + 6x^283 + 2x^284 + 5x^285 + 7x^286 + 7x^287 + 6x^288 + 9x^289 + 3x^290 + 2x^291 + 3x^292 + 7x^293 + 0x^294 + 5x^295 + 1x^296 + 1x^297 + 7x^298 + 7x^299 + 5x^300 + 1x^301 + 9x^302 + 6x^303 + 1x^304 + 0x^305 + 2x^306 + 2x^307 + 3x^308 + 5x^309 + 6x^310 + 7x^311 + 5x^312 + 8x^313 + 6x^314 + 0x^315 + 2x^316 + 0x^317 + 2x^318 + 2x^319 + 0x^320 + 2x^321 + 2x^322 + 0x^323 + 2x^324 + 5x^325 + 4x^326 + 9x^327 + 7x^328 + 5x^329 + 3x^330 + 9x^331 + 7x^332 + 2x^333 + 9x^334 + 4x^335 + 1x^336 + 5x^337 + 2x^338 + 2x^339 + 2x^340 + 0x^341 + 6x^342 + 5x^343 + 8x^344 + 4x^345 + 5x^346 + 9x^347 + 5x^348 + 6x^349 + 5x^350 + 3x^351 + 0x^352 + 6x^353 + 3x^354 + 3x^355 + 2x^356 + 2x^357 + 7x^358 + 8x^359 + 8x^360 + 6x^361 + 0x^362 + 0x^363 + 6x^364 + 5x^365 + 7x^366 + 7x^367 + 5x^368 + 2x^369 + 8x^370 + 7x^371 + 7x^372 + 5x^373 + 7x^374 + 8x^375 + 7x^376 + 3x^377 + 1x^378 + 4x^379 + 6x^380 + 8x^381 + 9x^382 + 4x^383 + 2x^384 + 6x^385 + 5x^386 + 1x^387 + 6x^388 + 4x^389 + 7x^390 + 5x^391 + 0x^392 + 3x^393 + 4x^394 + 5x^395 + 8x^396 + 9x^397 + 1x^398 + 0x^399 + 8x^400 + 1x^401 + 4x^402 + 2x^403 + 2x^404 + 9x^405 + 8x^406 + 0x^407 + 4x^408 + 3x^409 + 0x^410 + 5x^411 + 9x^412 + 3x^413 + 4x^414 + 1x^415 + 0x^416 + 9x^417 + 2x^418 + 9x^419 + 1x^420 + 5x^421 + 2x^422 + 0x^423 + 5x^424 + 0x^425 + 6x^426 + 8x^427 + 2x^428 + 2x^429 + 3x^430 + 8x^431 + 1x^432 + 2x^433 + 4x^434 + 0x^435 + 2x^436 + 8x^437 + 1x^438 + 5x^439 + 9x^440 + 5x^441 + 7x^442 + 6x^443 + 0x^444 + 5x^445 + 1x^446 + 4x^447 + 8x^448 + 7x^449 + 3x^450 + 5x^451 + 0x^452 + 1x^453 + 8x^454 + 5x^455 + 0x^456 + 8x^457 + 0x^458 + 9x^459 + 2x^460 + 9x^461 + 7x^462 + 0x^463 + 4x^464 + 0x^465 + 8x^466 + 8x^467 + 5x^468 + 8x^469 + 8x^470 + 6x^471 + 7x^472 + 3x^473 + 5x^474 + 2x^475 + 8x^476 + 9x^477 + 0x^478 + 8x^479 + 7x^480 + 5x^481 + 1x^482 + 9x^483 + 8x^484 + 8x^485 + 5x^486 + 2x^487 + 4x^488 + 8x^489 + 2x^490 + 3x^491 + 8x^492 + 0x^493 + 7x^494 + 2x^495 + 2x^496 + 7x^497 + 2x^498 + 5x^499\n",
      "Untuk N = 100, P(x) =  39.665004852082134 dengan waktu eksekusi 0.0018002986907958984 detik\n",
      "Untuk N = 500, P(x) =  36.21972424751427 dengan waktu eksekusi 0.0031499862670898438 detik\n",
      "Untuk N = 2500, P(x) =  35.636669592715606 dengan waktu eksekusi 0.01903700828552246 detik\n",
      "Untuk N = 12500, P(x) =  46.637774116595025 dengan waktu eksekusi 0.07665729522705078 detik\n",
      "Untuk N = 500000, P(x) =  48.01486980635804 dengan waktu eksekusi 2.6964588165283203 detik\n"
     ]
    },
    {
     "data": {
      "image/png": "[encoded data removed]",
      "text/plain": [
       "<Figure size 640x480 with 1 Axes>"
      ]
     },
     "metadata": {},
     "output_type": "display_data"
    }
   ],
   "source": [
    "def hitung_p(x, a):\n",
    "    st = time.time()\n",
    "    n = len(a)\n",
    "    p = 0\n",
    "    pStr = \"\"\n",
    "    for i in range(n):\n",
    "        p += a[i]*x**i\n",
    "        if i == 0:\n",
    "            pStr += str(a[i])\n",
    "        else:\n",
    "            pStr += \" + \" + str(a[i]) + \"x^\" + str(i)\n",
    "    if n == 500:\n",
    "        print(pStr)\n",
    "    et = time.time()\n",
    "    exce_time = et-st\n",
    "    return p, exce_time\n",
    "\n",
    "n = [100, 500, 2500, 12500, 500000]\n",
    "x = 0.9\n",
    "a100 = np.random.randint(0, 10, n[0])\n",
    "a500 = np.random.randint(0, 10, n[1])\n",
    "a2500 = np.random.randint(0, 10, n[2])\n",
    "a12500 = np.random.randint(0, 10, n[3])\n",
    "a500000 = np.random.randint(0, 10, n[4])\n",
    "\n",
    "p100, t100 = hitung_p(x, a100)\n",
    "p500, t500 = hitung_p(x, a500)\n",
    "p2500, t2500 = hitung_p(x, a2500)\n",
    "p12500, t12500 = hitung_p(x, a12500)\n",
    "p500000, t500000 = hitung_p(x, a500000)\n",
    "\n",
    "print(\"Untuk N = 100, P(x) = \", p100, \"dengan waktu eksekusi\", t100, \"detik\")\n",
    "print(\"Untuk N = 500, P(x) = \", p500, \"dengan waktu eksekusi\", t500, \"detik\")\n",
    "print(\"Untuk N = 2500, P(x) = \", p2500, \"dengan waktu eksekusi\", t2500, \"detik\")\n",
    "print(\"Untuk N = 12500, P(x) = \", p12500, \"dengan waktu eksekusi\", t12500, \"detik\")\n",
    "print(\"Untuk N = 500000, P(x) = \", p500000, \"dengan waktu eksekusi\", t500000, \"detik\")\n",
    "\n",
    "plt.plot(n, [t100, t500, t2500, t12500, t500000])\n",
    "plt.xlabel(\"n\")\n",
    "plt.ylabel(\"waktu eksekusi\")\n",
    "plt.show()"
   ]
  },
  {
   "cell_type": "markdown",
   "metadata": {},
   "source": [
    "# Task 2"
   ]
  },
  {
   "cell_type": "code",
   "execution_count": 126,
   "metadata": {},
   "outputs": [
    {
     "name": "stdout",
     "output_type": "stream",
     "text": [
      "Nilai a  = [1, 2, 3, 4, 5, 6, 7, 8, 9, 10]\n",
      "Nilai x  = 2\n",
      "Nilai n  = 10\n",
      "Nilai p  = 1024\n",
      "Formula  = 1 * 2^0 + 2 * 2^1 + 3 * 2^2 + 4 * 2^3 + 5 * 2^4 + 6 * 2^5 + 7 * 2^6 + 8 * 2^7 + 9 * 2^8 + 10 * 2^9\n",
      "Hasil    = 9217\n"
     ]
    }
   ],
   "source": [
    "h = 0 # Hasil\n",
    "p = 1 # Pangkat\n",
    "i = 0 # Index\n",
    "a = [1, 2, 3, 4, 5, 6, 7, 8, 9, 10] # Array\n",
    "x = 2 # Nilai x\n",
    "n = a.__len__() # Panjang array\n",
    "hString = \"\" # Formula\n",
    "\n",
    "while i < n: # Looping\n",
    "    h = h + a[i] * p # Merubah nilai h dengan rumus \n",
    "    i = i + 1 # Menambahkan nilai i\n",
    "    p = p * x # Merubah nilai p dengan rumus\n",
    "    hString = hString + \" + \" + str(a[i-1]) + \" * \" + str(x) + \"^\" + str(i-1) # Merubah nilai hString dengan rumus\n",
    "\n",
    "hString = hString[3:]\n",
    "print(\"Nilai a  = \" + str(a))\n",
    "print(\"Nilai x  = \" + str(x))\n",
    "print(\"Nilai n  = \" + str(n))\n",
    "print(\"Nilai p  = \" + str(p))\n",
    "print(\"Formula  = \" + hString)\n",
    "print(\"Hasil    = \" + str(h))\n"
   ]
  },
  {
   "cell_type": "markdown",
   "metadata": {},
   "source": [
    "# Task 3"
   ]
  },
  {
   "cell_type": "code",
   "execution_count": 127,
   "metadata": {},
   "outputs": [
    {
     "name": "stdout",
     "output_type": "stream",
     "text": [
      "a         =  [1, 2, 3, 4, 5, 6, 7, 8, 9, 10]\n",
      "x         =  2\n",
      "n         =  10\n",
      "Formula h =  10x^9 + 9x^8 + 8x^7 + 7x^6 + 6x^5 + 5x^4 + 4x^3 + 3x^2 + 2x^1 + 1\n",
      "Nilai   h =  9217\n"
     ]
    }
   ],
   "source": [
    "a = [1, 2, 3, 4, 5, 6, 7, 8, 9, 10] # Merupakan koefisien polinom\n",
    "n = a.__len__() # Merupakan derajat polinom\n",
    "x = 2 # Merupakan nilai x yang akan dihitung\n",
    "h = a[n-1] # Merupakan nilai h yang akan dihitung\n",
    "hString = \"\" # Merupakan string yang akan menampung hasil dari h\n",
    "for i in range(n-1, 0, -1): # Melakukan perulangan dari n-1 sampai 0 dengan step -1\n",
    "    h = h * x + a[i-1] # Melakukan perhitungan h\n",
    "    hString += str(a[i]) + \"x^\" + str(i) + \" + \" # Menambahkan string ke hString\n",
    "hString += str(a[0]) # Menambahkan string ke hString\n",
    "print(\"a         = \", a)\n",
    "print(\"x         = \", x)\n",
    "print(\"n         = \", n)\n",
    "print(\"Formula h = \", hString) \n",
    "print(\"Nilai   h = \", h)"
   ]
  }
 ],
 "metadata": {
  "kernelspec": {
   "display_name": "Python 3",
   "language": "python",
   "name": "python3"
  },
  "language_info": {
   "codemirror_mode": {
    "name": "ipython",
    "version": 3
   },
   "file_extension": ".py",
   "mimetype": "text/x-python",
   "name": "python",
   "nbconvert_exporter": "python",
   "pygments_lexer": "ipython3",
   "version": "3.9.13"
  },
  "orig_nbformat": 4
 },
 "nbformat": 4,
 "nbformat_minor": 2
}
