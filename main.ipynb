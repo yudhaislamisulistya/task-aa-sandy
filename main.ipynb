{
 "cells": [
  {
   "cell_type": "code",
   "execution_count": 3,
   "metadata": {},
   "outputs": [],
   "source": [
    "import numpy as np\n",
    "import matplotlib.pyplot as plt\n",
    "import pandas as pd"
   ]
  },
  {
   "cell_type": "code",
   "execution_count": null,
   "metadata": {},
   "outputs": [],
   "source": [
    "# rand(0...10) a0, a1, a2, a3 ... an\n",
    "# n 100, 500, 2500, 12500\n",
    "# x = 0,9"
   ]
  },
  {
   "cell_type": "markdown",
   "metadata": {},
   "source": [
    "# Task 2"
   ]
  },
  {
   "cell_type": "code",
   "execution_count": 29,
   "metadata": {},
   "outputs": [
    {
     "name": "stdout",
     "output_type": "stream",
     "text": [
      "Nilai a  = [1, 2, 3, 4, 5, 6, 7, 8, 9, 10]\n",
      "Nilai x  = 2\n",
      "Nilai n  = 10\n",
      "Nilai p  = 1024\n",
      "Formula  = 1 * 2^0 + 2 * 2^1 + 3 * 2^2 + 4 * 2^3 + 5 * 2^4 + 6 * 2^5 + 7 * 2^6 + 8 * 2^7 + 9 * 2^8 + 10 * 2^9\n",
      "Hasil    = 9217\n"
     ]
    }
   ],
   "source": [
    "h = 0 # Hasil\n",
    "p = 1 # Pangkat\n",
    "i = 0 # Index\n",
    "a = [1, 2, 3, 4, 5, 6, 7, 8, 9, 10] # Array\n",
    "x = 2 # Nilai x\n",
    "n = a.__len__() # Panjang array\n",
    "hString = \"\" # Formula\n",
    "\n",
    "while i < n: # Looping\n",
    "    h = h + a[i] * p # Merubah nilai h dengan rumus \n",
    "    i = i + 1 # Menambahkan nilai i\n",
    "    p = p * x # Merubah nilai p dengan rumus\n",
    "    hString = hString + \" + \" + str(a[i-1]) + \" * \" + str(x) + \"^\" + str(i-1) # Merubah nilai hString dengan rumus\n",
    "\n",
    "hString = hString[3:]\n",
    "print(\"Nilai a  = \" + str(a))\n",
    "print(\"Nilai x  = \" + str(x))\n",
    "print(\"Nilai n  = \" + str(n))\n",
    "print(\"Nilai p  = \" + str(p))\n",
    "print(\"Formula  = \" + hString)\n",
    "print(\"Hasil    = \" + str(h))\n"
   ]
  },
  {
   "cell_type": "markdown",
   "metadata": {},
   "source": [
    "# Task 3"
   ]
  },
  {
   "cell_type": "code",
   "execution_count": 25,
   "metadata": {},
   "outputs": [
    {
     "name": "stdout",
     "output_type": "stream",
     "text": [
      "a         =  [1, 2, 3, 4, 5, 6, 7, 8, 9, 10]\n",
      "x         =  2\n",
      "n         =  10\n",
      "Formula h =  10x^9 + 9x^8 + 8x^7 + 7x^6 + 6x^5 + 5x^4 + 4x^3 + 3x^2 + 2x^1 + 1\n",
      "Nilai   h =  9217\n"
     ]
    }
   ],
   "source": [
    "a = [1, 2, 3, 4, 5, 6, 7, 8, 9, 10] # Merupakan koefisien polinom\n",
    "n = a.__len__() # Merupakan derajat polinom\n",
    "x = 2 # Merupakan nilai x yang akan dihitung\n",
    "h = a[n-1] # Merupakan nilai h yang akan dihitung\n",
    "hString = \"\" # Merupakan string yang akan menampung hasil dari h\n",
    "for i in range(n-1, 0, -1): # Melakukan perulangan dari n-1 sampai 0 dengan step -1\n",
    "    h = h * x + a[i-1] # Melakukan perhitungan h\n",
    "    hString += str(a[i]) + \"x^\" + str(i) + \" + \" # Menambahkan string ke hString\n",
    "hString += str(a[0]) # Menambahkan string ke hString\n",
    "print(\"a         = \", a)\n",
    "print(\"x         = \", x)\n",
    "print(\"n         = \", n)\n",
    "print(\"Formula h = \", hString) \n",
    "print(\"Nilai   h = \", h)"
   ]
  }
 ],
 "metadata": {
  "kernelspec": {
   "display_name": "Python 3",
   "language": "python",
   "name": "python3"
  },
  "language_info": {
   "codemirror_mode": {
    "name": "ipython",
    "version": 3
   },
   "file_extension": ".py",
   "mimetype": "text/x-python",
   "name": "python",
   "nbconvert_exporter": "python",
   "pygments_lexer": "ipython3",
   "version": "3.9.13"
  },
  "orig_nbformat": 4
 },
 "nbformat": 4,
 "nbformat_minor": 2
}
